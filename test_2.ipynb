{
 "cells": [
  {
   "cell_type": "code",
   "execution_count": 11,
   "id": "360c40d7-bef1-4f0b-bbac-09652ee76481",
   "metadata": {},
   "outputs": [
    {
     "name": "stdout",
     "output_type": "stream",
     "text": [
      "The autoreload extension is already loaded. To reload it, use:\n",
      "  %reload_ext autoreload\n"
     ]
    }
   ],
   "source": [
    "%load_ext autoreload\n",
    "%autoreload 2"
   ]
  },
  {
   "cell_type": "code",
   "execution_count": 19,
   "id": "73ad4551-d768-4f10-9f46-f7079c335505",
   "metadata": {},
   "outputs": [],
   "source": [
    "from sections_EC2_module import concrete_EC2"
   ]
  },
  {
   "cell_type": "code",
   "execution_count": 20,
   "id": "381773ad-5186-4ad3-8907-66cb2d11ef1e",
   "metadata": {},
   "outputs": [],
   "source": [
    "c=concrete_EC2(25)"
   ]
  },
  {
   "cell_type": "code",
   "execution_count": 23,
   "id": "bfd5ce6a-e9ce-4e58-9d3f-8003502138e5",
   "metadata": {},
   "outputs": [
    {
     "data": {
      "text/plain": [
       "2.0693662482105193"
      ]
     },
     "execution_count": 23,
     "metadata": {},
     "output_type": "execute_result"
    }
   ],
   "source": [
    "c.eps_c1"
   ]
  },
  {
   "cell_type": "code",
   "execution_count": null,
   "id": "195c8192-80e3-4a67-a199-920cb3bd47d6",
   "metadata": {},
   "outputs": [],
   "source": []
  },
  {
   "cell_type": "code",
   "execution_count": null,
   "id": "8b94db32-0e88-4e5f-b671-550de489137a",
   "metadata": {},
   "outputs": [],
   "source": [
    "\n",
    "#test tabla-------------------------------------------------------------------------------------\n",
    "# with col1_3:\n",
    "#     if \"df\" not in st.session_state:\n",
    "#         st.session_state.df = pd.DataFrame(columns=[\"Sepal Length\", \n",
    "#                                                 \"Sepal Width\", \n",
    "#                                                 \"Petal Length\", \n",
    "#                                                 \"Petal Width\", \n",
    "#                                                 \"Variety\"])\n",
    "\n",
    "#     st.subheader(\"Add Record\")\n",
    "\n",
    "#     num_new_rows = st.sidebar.number_input(\"Add Rows\",1,50)\n",
    "#     ncol = st.session_state.df.shape[1]  # col count\n",
    "#     rw = -1\n",
    "\n",
    "#     with st.form(key=\"add form\", clear_on_submit= True):\n",
    "#         cols = st.columns(ncol)\n",
    "#         rwdta = []\n",
    "\n",
    "#         for i in range(ncol):\n",
    "#             rwdta.append(cols[i].text_input(st.session_state.df.columns[i]))\n",
    "\n",
    "#     # you can insert code for a list comprehension here to change the data (rwdta) \n",
    "#     # values into integer / float, if required\n",
    "\n",
    "#         if st.form_submit_button(\"Add\"):\n",
    "#             if st.session_state.df.shape[0] == num_new_rows:\n",
    "#                 st.error(\"Add row limit reached. Cant add any more records..\")  \n",
    "#             else:\n",
    "#                 rw = st.session_state.df.shape[0] + 1\n",
    "#                 st.info(f\"Row: {rw} / {num_new_rows} added\")\n",
    "#                 st.session_state.df.loc[rw] = rwdta\n",
    "\n",
    "#                 if st.session_state.df.shape[0] == num_new_rows:\n",
    "#                     st.error(\"Add row limit reached...\")\n",
    "\n",
    "#     st.dataframe(st.session_state.df)\n",
    "\n",
    "#---------------------------------------------------------------------------------------------------"
   ]
  }
 ],
 "metadata": {
  "kernelspec": {
   "display_name": "Python 3 (ipykernel)",
   "language": "python",
   "name": "python3"
  },
  "language_info": {
   "codemirror_mode": {
    "name": "ipython",
    "version": 3
   },
   "file_extension": ".py",
   "mimetype": "text/x-python",
   "name": "python",
   "nbconvert_exporter": "python",
   "pygments_lexer": "ipython3",
   "version": "3.10.12"
  }
 },
 "nbformat": 4,
 "nbformat_minor": 5
}
