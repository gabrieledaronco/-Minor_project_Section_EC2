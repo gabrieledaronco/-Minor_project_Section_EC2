{
 "cells": [
  {
   "cell_type": "code",
   "execution_count": 1,
   "id": "360c40d7-bef1-4f0b-bbac-09652ee76481",
   "metadata": {},
   "outputs": [],
   "source": [
    "%load_ext autoreload\n",
    "%autoreload 2"
   ]
  },
  {
   "cell_type": "code",
   "execution_count": 2,
   "id": "73ad4551-d768-4f10-9f46-f7079c335505",
   "metadata": {},
   "outputs": [],
   "source": [
    "from sections_EC2_module import concrete_EC2"
   ]
  },
  {
   "cell_type": "code",
   "execution_count": 3,
   "id": "381773ad-5186-4ad3-8907-66cb2d11ef1e",
   "metadata": {},
   "outputs": [],
   "source": [
    "c=concrete_EC2(25)"
   ]
  },
  {
   "cell_type": "code",
   "execution_count": 4,
   "id": "bfd5ce6a-e9ce-4e58-9d3f-8003502138e5",
   "metadata": {},
   "outputs": [
    {
     "data": {
      "text/plain": [
       "0.0020693662482105194"
      ]
     },
     "execution_count": 4,
     "metadata": {},
     "output_type": "execute_result"
    }
   ],
   "source": [
    "c.eps_c1"
   ]
  },
  {
   "cell_type": "code",
   "execution_count": null,
   "id": "195c8192-80e3-4a67-a199-920cb3bd47d6",
   "metadata": {},
   "outputs": [],
   "source": []
  },
  {
   "cell_type": "code",
   "execution_count": null,
   "id": "13bcb591-18e4-48fa-8640-956578e6013e",
   "metadata": {},
   "outputs": [],
   "source": []
  },
  {
   "cell_type": "code",
   "execution_count": null,
   "id": "8b94db32-0e88-4e5f-b671-550de489137a",
   "metadata": {
    "jupyter": {
     "source_hidden": true
    }
   },
   "outputs": [],
   "source": [
    "\n",
    "#test tabla-------------------------------------------------------------------------------------\n",
    "# with col1_3:\n",
    "#     if \"df\" not in st.session_state:\n",
    "#         st.session_state.df = pd.DataFrame(columns=[\"Sepal Length\", \n",
    "#                                                 \"Sepal Width\", \n",
    "#                                                 \"Petal Length\", \n",
    "#                                                 \"Petal Width\", \n",
    "#                                                 \"Variety\"])\n",
    "\n",
    "#     st.subheader(\"Add Record\")\n",
    "\n",
    "#     num_new_rows = st.sidebar.number_input(\"Add Rows\",1,50)\n",
    "#     ncol = st.session_state.df.shape[1]  # col count\n",
    "#     rw = -1\n",
    "\n",
    "#     with st.form(key=\"add form\", clear_on_submit= True):\n",
    "#         cols = st.columns(ncol)\n",
    "#         rwdta = []\n",
    "\n",
    "#         for i in range(ncol):\n",
    "#             rwdta.append(cols[i].text_input(st.session_state.df.columns[i]))\n",
    "\n",
    "#     # you can insert code for a list comprehension here to change the data (rwdta) \n",
    "#     # values into integer / float, if required\n",
    "\n",
    "#         if st.form_submit_button(\"Add\"):\n",
    "#             if st.session_state.df.shape[0] == num_new_rows:\n",
    "#                 st.error(\"Add row limit reached. Cant add any more records..\")  \n",
    "#             else:\n",
    "#                 rw = st.session_state.df.shape[0] + 1\n",
    "#                 st.info(f\"Row: {rw} / {num_new_rows} added\")\n",
    "#                 st.session_state.df.loc[rw] = rwdta\n",
    "\n",
    "#                 if st.session_state.df.shape[0] == num_new_rows:\n",
    "#                     st.error(\"Add row limit reached...\")\n",
    "\n",
    "#     st.dataframe(st.session_state.df)\n",
    "\n",
    "#---------------------------------------------------------------------------------------------------"
   ]
  },
  {
   "cell_type": "code",
   "execution_count": 5,
   "id": "bf84b912-8541-497e-900f-0dd9c2404958",
   "metadata": {},
   "outputs": [],
   "source": [
    "import pandas as pd\n",
    "import numpy as np"
   ]
  },
  {
   "cell_type": "code",
   "execution_count": 75,
   "id": "3c6a72ef-4b3e-4fd4-96ac-1f82b36ed2a7",
   "metadata": {},
   "outputs": [],
   "source": [
    "edited_df = pd.DataFrame(\n",
    "                [{\"Bars diameter [mm]\":25, \"Number of bars\":4, \"cover [mm]\":50},\n",
    "                 {\"Bars diameter [mm]\":25, \"Number of bars\":0, \"cover [mm]\":50},\n",
    "                 {\"Bars diameter [mm]\":25, \"Number of bars\":4, \"cover [mm]\":50},\n",
    "                 {\"Bars diameter [mm]\":25, \"Number of bars\":0, \"cover [mm]\":50},\n",
    "                 {\"Bars diameter [mm]\":25, \"Number of bars\":2, \"cover [mm]\":50},\n",
    "                 {\"Bars diameter [mm]\":25, \"Number of bars\":0, \"cover [mm]\":50},\n",
    "                 ], index=[\"Top layer 1\",\n",
    "                           \"Top layer 2\",\n",
    "                            \"Bottom layer 1\",\n",
    "                            \"Bottom layer 2\",\n",
    "                            \"Side layer 1\",\n",
    "                            \"Side layer 2\"]\n",
    ")"
   ]
  },
  {
   "cell_type": "code",
   "execution_count": 76,
   "id": "8415e468-124f-4e56-96a1-dbdf8aa7ed0a",
   "metadata": {},
   "outputs": [
    {
     "data": {
      "text/plain": [
       "Top layer 1       490.873852\n",
       "Top layer 2       490.873852\n",
       "Bottom layer 1    490.873852\n",
       "Bottom layer 2    490.873852\n",
       "Side layer 1      490.873852\n",
       "Side layer 2      490.873852\n",
       "Name: Bars diameter [mm], dtype: float64"
      ]
     },
     "execution_count": 76,
     "metadata": {},
     "output_type": "execute_result"
    }
   ],
   "source": [
    "diameters = edited_df.loc[:,\"Bars diameter [mm]\"]\n",
    "diameters\n",
    "areas = (np.pi*diameters**2)/4\n",
    "areas\n"
   ]
  },
  {
   "cell_type": "code",
   "execution_count": 39,
   "id": "1943c24a-ff44-46b0-9211-8c006f340338",
   "metadata": {},
   "outputs": [
    {
     "data": {
      "text/plain": [
       "25.0"
      ]
     },
     "execution_count": 39,
     "metadata": {},
     "output_type": "execute_result"
    }
   ],
   "source": [
    "modified_df.loc[\"Top layer 1\"][\"Bars diameter [mm]\"]"
   ]
  },
  {
   "cell_type": "code",
   "execution_count": 77,
   "id": "2f31a0ce-71be-4146-b504-a5e673ff1b26",
   "metadata": {},
   "outputs": [
    {
     "data": {
      "text/html": [
       "<div>\n",
       "<style scoped>\n",
       "    .dataframe tbody tr th:only-of-type {\n",
       "        vertical-align: middle;\n",
       "    }\n",
       "\n",
       "    .dataframe tbody tr th {\n",
       "        vertical-align: top;\n",
       "    }\n",
       "\n",
       "    .dataframe thead th {\n",
       "        text-align: right;\n",
       "    }\n",
       "</style>\n",
       "<table border=\"1\" class=\"dataframe\">\n",
       "  <thead>\n",
       "    <tr style=\"text-align: right;\">\n",
       "      <th></th>\n",
       "      <th>Bars diameter [mm]</th>\n",
       "      <th>Number of bars</th>\n",
       "      <th>Cover [mm]</th>\n",
       "      <th>Area</th>\n",
       "    </tr>\n",
       "  </thead>\n",
       "  <tbody>\n",
       "    <tr>\n",
       "      <th>Top layer 1</th>\n",
       "      <td>25</td>\n",
       "      <td>4</td>\n",
       "      <td>50</td>\n",
       "      <td>490.873852</td>\n",
       "    </tr>\n",
       "    <tr>\n",
       "      <th>Top layer 2</th>\n",
       "      <td>25</td>\n",
       "      <td>0</td>\n",
       "      <td>50</td>\n",
       "      <td>490.873852</td>\n",
       "    </tr>\n",
       "    <tr>\n",
       "      <th>Bottom layer 1</th>\n",
       "      <td>25</td>\n",
       "      <td>4</td>\n",
       "      <td>50</td>\n",
       "      <td>490.873852</td>\n",
       "    </tr>\n",
       "    <tr>\n",
       "      <th>Bottom layer 2</th>\n",
       "      <td>25</td>\n",
       "      <td>0</td>\n",
       "      <td>50</td>\n",
       "      <td>490.873852</td>\n",
       "    </tr>\n",
       "    <tr>\n",
       "      <th>Side layer 1</th>\n",
       "      <td>25</td>\n",
       "      <td>2</td>\n",
       "      <td>50</td>\n",
       "      <td>490.873852</td>\n",
       "    </tr>\n",
       "    <tr>\n",
       "      <th>Side layer 2</th>\n",
       "      <td>25</td>\n",
       "      <td>0</td>\n",
       "      <td>50</td>\n",
       "      <td>490.873852</td>\n",
       "    </tr>\n",
       "  </tbody>\n",
       "</table>\n",
       "</div>"
      ],
      "text/plain": [
       "                Bars diameter [mm]  Number of bars  Cover [mm]        Area\n",
       "Top layer 1                     25               4          50  490.873852\n",
       "Top layer 2                     25               0          50  490.873852\n",
       "Bottom layer 1                  25               4          50  490.873852\n",
       "Bottom layer 2                  25               0          50  490.873852\n",
       "Side layer 1                    25               2          50  490.873852\n",
       "Side layer 2                    25               0          50  490.873852"
      ]
     },
     "execution_count": 77,
     "metadata": {},
     "output_type": "execute_result"
    }
   ],
   "source": [
    "modified_df = pd.concat([edited_df,areas],axis=1)\n",
    "modified_df.columns=[\"Bars diameter [mm]\",\"Number of bars\",\"Cover [mm]\",\"Area\"]\n",
    "modified_df\n"
   ]
  },
  {
   "cell_type": "code",
   "execution_count": null,
   "id": "d1e03bdc-aecb-43fc-9de7-b53d8f198ba9",
   "metadata": {},
   "outputs": [],
   "source": []
  },
  {
   "cell_type": "code",
   "execution_count": 9,
   "id": "599bba20-f440-4f2a-ab91-027304ac801a",
   "metadata": {},
   "outputs": [
    {
     "data": {
      "text/plain": [
       "Index(['Top layer 1', 'Top layer 2', 'Bottom layer 1', 'Bottom layer 2',\n",
       "       'Side layer 1', 'Side layer 2'],\n",
       "      dtype='object')"
      ]
     },
     "execution_count": 9,
     "metadata": {},
     "output_type": "execute_result"
    }
   ],
   "source": [
    "modified_df.index"
   ]
  },
  {
   "cell_type": "code",
   "execution_count": 10,
   "id": "c1cf9189-430a-4afc-b7cc-1fe93c3c8b56",
   "metadata": {},
   "outputs": [
    {
     "data": {
      "text/plain": [
       "'Top'"
      ]
     },
     "execution_count": 10,
     "metadata": {},
     "output_type": "execute_result"
    }
   ],
   "source": [
    "modified_df.loc[\"Top layer 1\"].name[0:3]"
   ]
  },
  {
   "cell_type": "code",
   "execution_count": 54,
   "id": "4e709d1e-d70e-4e32-8b1e-a18d626c376f",
   "metadata": {},
   "outputs": [
    {
     "data": {
      "text/plain": [
       "Bars diameter [mm]     25.000000\n",
       "Number of bars          4.000000\n",
       "cover [mm]             50.000000\n",
       "Area                  490.873852\n",
       "Name: Top layer 1, dtype: float64"
      ]
     },
     "execution_count": 54,
     "metadata": {},
     "output_type": "execute_result"
    }
   ],
   "source": [
    "name"
   ]
  },
  {
   "cell_type": "code",
   "execution_count": 11,
   "id": "bbbcbfef-89b6-47be-938e-53c1e1d4a262",
   "metadata": {},
   "outputs": [
    {
     "data": {
      "text/plain": [
       "Bars diameter [mm]     25.000000\n",
       "Number of bars          4.000000\n",
       "Cover [mm]             50.000000\n",
       "Area                  490.873852\n",
       "Name: Top layer 1, dtype: float64"
      ]
     },
     "execution_count": 11,
     "metadata": {},
     "output_type": "execute_result"
    }
   ],
   "source": [
    "test_serie = modified_df.loc[\"Top layer 1\"]\n",
    "test_serie"
   ]
  },
  {
   "cell_type": "code",
   "execution_count": 12,
   "id": "e428545c-2b18-46c0-a6ce-2d2652cfb456",
   "metadata": {},
   "outputs": [
    {
     "data": {
      "text/plain": [
       "25.0"
      ]
     },
     "execution_count": 12,
     "metadata": {},
     "output_type": "execute_result"
    }
   ],
   "source": [
    "test_serie[\"Bars diameter [mm]\"]"
   ]
  },
  {
   "cell_type": "code",
   "execution_count": 57,
   "id": "07013972-6bbd-4dd0-8ca8-d4f1a4b70a87",
   "metadata": {},
   "outputs": [],
   "source": [
    "def rect_df_list(bars_df:pd.Series,\n",
    "                height:float,\n",
    "                width:float\n",
    "             )->list[list[float]]:\n",
    "\n",
    "    diam = bars_df[\"Bars diameter [mm]\"]\n",
    "    area = bars_df[\"Area\"]\n",
    "    nr_bars = int(bars_df[\"Number of bars\"])\n",
    "    cover = bars_df[\"Cover [mm]\"]\n",
    "    bar_list=[]\n",
    "    \n",
    "    if bars_df.name == \"Top layer 1\":\n",
    "        s = (width -2*cover)/(nr_bars-1)\n",
    "        x = -width/2+cover\n",
    "        y = height/2-cover\n",
    "    elif bars_df.name == \"Top layer 2\":\n",
    "        s = (width -2*cover)/(nr_bars-1)\n",
    "        x = -width/2+cover\n",
    "        y = height/2-cover-diam\n",
    "    elif bars_df.name == \"Bottom layer 1\":\n",
    "        s = (width -2*cover)/(nr_bars-1)\n",
    "        x = -width/2+cover\n",
    "        y = -height/2+cover\n",
    "    elif bars_df.name == \"Bottom layer 2\":\n",
    "        s = (width -2*cover)/(nr_bars-1)\n",
    "        x = -width/2+cover\n",
    "        y = -height/2+cover+diam\n",
    "    elif bars_df.name == \"Side layer 1\":\n",
    "        nr_bars=nr_bars+2\n",
    "        s = (height -2*cover)/(nr_bars-1)\n",
    "        x = -width/2+cover\n",
    "        y = -height/2+cover\n",
    "    elif bars_df.name == \"Side layer 2\":\n",
    "        nr_bars=nr_bars+2\n",
    "        s = (height -2*cover)/(nr_bars-1)\n",
    "        x = -width/2+cover+diam\n",
    "        y = -height/2+cover\n",
    "\n",
    "    for i in range(nr_bars):\n",
    "        if area == 0:\n",
    "            continue\n",
    "        elif i ==0:\n",
    "            if bars_df.name[0:4] == \"Side\":\n",
    "                continue\n",
    "            else:\n",
    "                sub_list = [area, x, y]\n",
    "        elif i== (nr_bars-1) and bars_df.name[0:4] == \"Side\":\n",
    "            continue\n",
    "        else:\n",
    "            if bars_df.name[0:4] == \"Side\":\n",
    "                y=y+s\n",
    "            else:\n",
    "                x=x+s\n",
    "            sub_list = [area, x, y]\n",
    "        bar_list.append(sub_list)\n",
    "    \n",
    "    return bar_list\n",
    "       "
   ]
  },
  {
   "cell_type": "code",
   "execution_count": 78,
   "id": "389764da-2354-4d87-b604-ac5e41f97830",
   "metadata": {},
   "outputs": [],
   "source": [
    "bar_list = modified_df.apply(rect_df_list, axis=1, args=(1000,1000))"
   ]
  },
  {
   "cell_type": "code",
   "execution_count": 79,
   "id": "a782a8b2-6bcb-4d20-8f58-f68539cb9577",
   "metadata": {},
   "outputs": [
    {
     "data": {
      "text/plain": [
       "Top layer 1       [[490.8738521234052, -450.0, 450.0], [490.8738...\n",
       "Top layer 2                                                      []\n",
       "Bottom layer 1    [[490.8738521234052, -450.0, -450.0], [490.873...\n",
       "Bottom layer 2                                                   []\n",
       "Side layer 1      [[490.8738521234052, -450.0, -150.0], [490.873...\n",
       "Side layer 2                                                     []\n",
       "dtype: object"
      ]
     },
     "execution_count": 79,
     "metadata": {},
     "output_type": "execute_result"
    }
   ],
   "source": [
    "bar_list"
   ]
  },
  {
   "cell_type": "code",
   "execution_count": 67,
   "id": "93a305e4-c539-42fb-ae6c-fb61168639e4",
   "metadata": {
    "collapsed": true,
    "jupyter": {
     "outputs_hidden": true
    }
   },
   "outputs": [
    {
     "data": {
      "text/plain": [
       "[[490.8738521234052, -450.0, 450.0],\n",
       " [490.8738521234052, -150.0, 450.0],\n",
       " [490.8738521234052, 150.0, 450.0],\n",
       " [490.8738521234052, 450.0, 450.0]]"
      ]
     },
     "execution_count": 67,
     "metadata": {},
     "output_type": "execute_result"
    }
   ],
   "source": [
    "bar_list.iloc[0]"
   ]
  },
  {
   "cell_type": "code",
   "execution_count": 72,
   "id": "f55746bc-dbf2-443e-ac79-3b956d2b0a06",
   "metadata": {},
   "outputs": [
    {
     "name": "stdout",
     "output_type": "stream",
     "text": [
      "[[490.8738521234052, -450.0, 425.0], [490.8738521234052, -150.0, 425.0], [490.8738521234052, 150.0, 425.0], [490.8738521234052, 450.0, 425.0]]\n",
      "[[490.8738521234052, -450.0, -450.0], [490.8738521234052, -150.0, -450.0], [490.8738521234052, 150.0, -450.0], [490.8738521234052, 450.0, -450.0]]\n",
      "[]\n",
      "[[490.8738521234052, -450.0, -150.0], [490.8738521234052, -450.0, 150.0]]\n",
      "[[490.8738521234052, -425.0, -150.0], [490.8738521234052, -425.0, 150.0]]\n"
     ]
    }
   ],
   "source": [
    " for bar in range(len(bar_list)):\n",
    "    if not bar:\n",
    "         continue\n",
    "    else:\n",
    "        print(bar_list.iloc[bar])"
   ]
  },
  {
   "cell_type": "code",
   "execution_count": 107,
   "id": "8a774c97-f5a1-48ae-852a-bbe3a3ee26a7",
   "metadata": {},
   "outputs": [
    {
     "ename": "TypeError",
     "evalue": "'Index' object is not callable",
     "output_type": "error",
     "traceback": [
      "\u001b[1;31m---------------------------------------------------------------------------\u001b[0m",
      "\u001b[1;31mTypeError\u001b[0m                                 Traceback (most recent call last)",
      "Cell \u001b[1;32mIn[107], line 1\u001b[0m\n\u001b[1;32m----> 1\u001b[0m \u001b[43mbar_list\u001b[49m\u001b[38;5;241;43m.\u001b[39;49m\u001b[43mindex\u001b[49m\u001b[43m(\u001b[49m\u001b[43m)\u001b[49m\u001b[38;5;241m.\u001b[39mname\n",
      "\u001b[1;31mTypeError\u001b[0m: 'Index' object is not callable"
     ]
    }
   ],
   "source": [
    "bar_list.index()\n"
   ]
  },
  {
   "cell_type": "code",
   "execution_count": null,
   "id": "b7941929-9547-4bb5-a632-122e974fbb68",
   "metadata": {},
   "outputs": [],
   "source": []
  }
 ],
 "metadata": {
  "kernelspec": {
   "display_name": "Python 3 (ipykernel)",
   "language": "python",
   "name": "python3"
  },
  "language_info": {
   "codemirror_mode": {
    "name": "ipython",
    "version": 3
   },
   "file_extension": ".py",
   "mimetype": "text/x-python",
   "name": "python",
   "nbconvert_exporter": "python",
   "pygments_lexer": "ipython3",
   "version": "3.10.12"
  }
 },
 "nbformat": 4,
 "nbformat_minor": 5
}
