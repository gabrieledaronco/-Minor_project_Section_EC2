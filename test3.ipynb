{
 "cells": [
  {
   "cell_type": "code",
   "execution_count": null,
   "id": "03c8afd7-175b-43a7-a3b9-f7f3357bd4e9",
   "metadata": {
    "jupyter": {
     "source_hidden": true
    }
   },
   "outputs": [],
   "source": [
    "%load_ext autoreload\n",
    "%autoreload 2\n",
    "    "
   ]
  },
  {
   "cell_type": "code",
   "execution_count": 1,
   "id": "4e021f11-47ca-4a71-bcac-f81e0371181e",
   "metadata": {},
   "outputs": [],
   "source": [
    "import pandas as pd\n",
    "import numpy as np"
   ]
  },
  {
   "cell_type": "code",
   "execution_count": 5,
   "id": "8997b4ff-7f40-431e-8a4f-676b5635c106",
   "metadata": {},
   "outputs": [],
   "source": [
    "columns_actions = [\"Load Case\",\"N [kN]\", \"M [kNm]\", \"V [kN]\" ]\n",
    "rows_actions = [[\"LC1\",-100,1500,300],[\"LC2\",-100,1300,400]]\n",
    "uls_act_df = pd.DataFrame(data=rows_actions, columns=columns_actions)"
   ]
  },
  {
   "cell_type": "code",
   "execution_count": 6,
   "id": "8d73e570-1b89-4d39-b2ab-7348a61ee770",
   "metadata": {},
   "outputs": [
    {
     "data": {
      "text/html": [
       "<div>\n",
       "<style scoped>\n",
       "    .dataframe tbody tr th:only-of-type {\n",
       "        vertical-align: middle;\n",
       "    }\n",
       "\n",
       "    .dataframe tbody tr th {\n",
       "        vertical-align: top;\n",
       "    }\n",
       "\n",
       "    .dataframe thead th {\n",
       "        text-align: right;\n",
       "    }\n",
       "</style>\n",
       "<table border=\"1\" class=\"dataframe\">\n",
       "  <thead>\n",
       "    <tr style=\"text-align: right;\">\n",
       "      <th></th>\n",
       "      <th>Load Case</th>\n",
       "      <th>N [kN]</th>\n",
       "      <th>M [kNm]</th>\n",
       "      <th>V [kN]</th>\n",
       "    </tr>\n",
       "  </thead>\n",
       "  <tbody>\n",
       "    <tr>\n",
       "      <th>0</th>\n",
       "      <td>LC1</td>\n",
       "      <td>-100</td>\n",
       "      <td>1500</td>\n",
       "      <td>300</td>\n",
       "    </tr>\n",
       "    <tr>\n",
       "      <th>1</th>\n",
       "      <td>LC2</td>\n",
       "      <td>-100</td>\n",
       "      <td>1300</td>\n",
       "      <td>400</td>\n",
       "    </tr>\n",
       "  </tbody>\n",
       "</table>\n",
       "</div>"
      ],
      "text/plain": [
       "  Load Case  N [kN]  M [kNm]  V [kN]\n",
       "0       LC1    -100     1500     300\n",
       "1       LC2    -100     1300     400"
      ]
     },
     "execution_count": 6,
     "metadata": {},
     "output_type": "execute_result"
    }
   ],
   "source": [
    "uls_act_df"
   ]
  },
  {
   "cell_type": "code",
   "execution_count": 8,
   "id": "c9709571-8342-4a4a-9e3c-2e5a6734d3f9",
   "metadata": {},
   "outputs": [
    {
     "data": {
      "text/plain": [
       "2"
      ]
     },
     "execution_count": 8,
     "metadata": {},
     "output_type": "execute_result"
    }
   ],
   "source": [
    "len(uls_act_df[\"Load Case\"])"
   ]
  },
  {
   "cell_type": "code",
   "execution_count": 9,
   "id": "c622de57-36dc-48bf-ba5f-3eb2f8951bc2",
   "metadata": {},
   "outputs": [
    {
     "data": {
      "text/plain": [
       "-100"
      ]
     },
     "execution_count": 9,
     "metadata": {},
     "output_type": "execute_result"
    }
   ],
   "source": [
    "uls_act_df.loc[0][\"N [kN]\"]"
   ]
  },
  {
   "cell_type": "code",
   "execution_count": 11,
   "id": "e2e4d88d-aad0-4480-b2c8-c0249d2e610f",
   "metadata": {},
   "outputs": [
    {
     "data": {
      "text/plain": [
       "[-100, -100]"
      ]
     },
     "execution_count": 11,
     "metadata": {},
     "output_type": "execute_result"
    }
   ],
   "source": [
    "list(uls_act_df[\"N [kN]\"])"
   ]
  },
  {
   "cell_type": "code",
   "execution_count": 24,
   "id": "da5756bf-2a61-4516-a066-9fc3dde03d2f",
   "metadata": {},
   "outputs": [
    {
     "name": "stdout",
     "output_type": "stream",
     "text": [
      "LC1\n",
      "0\n",
      "LC2\n",
      "1\n"
     ]
    }
   ],
   "source": [
    "for idx, row in uls_act_df.iterrows():\n",
    "    print(row[0])\n",
    "    print (idx)"
   ]
  },
  {
   "cell_type": "code",
   "execution_count": 25,
   "id": "e49ea2d9-82dc-4e3c-8bb1-a6011eb02eb9",
   "metadata": {},
   "outputs": [
    {
     "data": {
      "text/plain": [
       "4"
      ]
     },
     "execution_count": 25,
     "metadata": {},
     "output_type": "execute_result"
    }
   ],
   "source": [
    "len(columns_actions)"
   ]
  },
  {
   "cell_type": "code",
   "execution_count": null,
   "id": "3f21e68d-c168-4374-9c75-0e3850167c47",
   "metadata": {},
   "outputs": [],
   "source": []
  }
 ],
 "metadata": {
  "kernelspec": {
   "display_name": "Python 3.10 (pfse)",
   "language": "python",
   "name": "pfse"
  },
  "language_info": {
   "codemirror_mode": {
    "name": "ipython",
    "version": 3
   },
   "file_extension": ".py",
   "mimetype": "text/x-python",
   "name": "python",
   "nbconvert_exporter": "python",
   "pygments_lexer": "ipython3",
   "version": "3.10.12"
  }
 },
 "nbformat": 4,
 "nbformat_minor": 5
}
